{
 "cells": [
  {
   "cell_type": "code",
   "execution_count": 3,
   "id": "dab5c89f",
   "metadata": {},
   "outputs": [
    {
     "name": "stdout",
     "output_type": "stream",
     "text": [
      "titanic.zip: Skipping, found more recently modified local copy (use --force to force download)\n",
      "Archive:  ./data/titanic.zip\n",
      "  inflating: ./data/gender_submission.csv  \n",
      "  inflating: ./data/test.csv         \n",
      "  inflating: ./data/train.csv        \n"
     ]
    }
   ],
   "source": [
    "!kaggle competitions download -c titanic --path ./data\n",
    "!unzip -o ./data/titanic.zip -d ./data"
   ]
  }
 ],
 "metadata": {
  "kernelspec": {
   "display_name": ".venv",
   "language": "python",
   "name": "python3"
  },
  "language_info": {
   "codemirror_mode": {
    "name": "ipython",
    "version": 3
   },
   "file_extension": ".py",
   "mimetype": "text/x-python",
   "name": "python",
   "nbconvert_exporter": "python",
   "pygments_lexer": "ipython3",
   "version": "3.9.18"
  }
 },
 "nbformat": 4,
 "nbformat_minor": 5
}
