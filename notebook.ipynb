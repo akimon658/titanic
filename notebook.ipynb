{
 "cells": [
  {
   "cell_type": "code",
   "execution_count": 3,
   "id": "dab5c89f",
   "metadata": {},
   "outputs": [
    {
     "name": "stdout",
     "output_type": "stream",
     "text": [
      "titanic.zip: Skipping, found more recently modified local copy (use --force to force download)\n",
      "Archive:  ./data/titanic.zip\n",
      "  inflating: ./data/gender_submission.csv  \n",
      "  inflating: ./data/test.csv         \n",
      "  inflating: ./data/train.csv        \n"
     ]
    }
   ],
   "source": [
    "!kaggle competitions download -c titanic --path ./data\n",
    "!unzip -o ./data/titanic.zip -d ./data"
   ]
  },
  {
   "cell_type": "code",
   "execution_count": 1,
   "id": "e8738644",
   "metadata": {},
   "outputs": [],
   "source": [
    "import polars as pl\n",
    "\n",
    "train = pl.read_csv(\"./data/train.csv\")\n",
    "test = pl.read_csv(\"./data/test.csv\")"
   ]
  },
  {
   "cell_type": "code",
   "execution_count": 4,
   "id": "7021f505",
   "metadata": {},
   "outputs": [],
   "source": [
    "train = train.with_columns(\n",
    "  (pl.col(\"Sex\") == \"male\").alias(\"IsMale\"),\n",
    ")\n",
    "test = test.with_columns(\n",
    "  (pl.col(\"Sex\") == \"male\").alias(\"IsMale\"),\n",
    ")"
   ]
  },
  {
   "cell_type": "code",
   "execution_count": 5,
   "id": "05cb2404",
   "metadata": {},
   "outputs": [
    {
     "name": "stdout",
     "output_type": "stream",
     "text": [
      "Training until validation scores don't improve for 10 rounds\n",
      "Early stopping, best iteration is:\n",
      "[25]\tvalid_0's binary_error: 0.178771\n",
      "Accuracy: 0.8212290502793296\n"
     ]
    }
   ],
   "source": [
    "import lightgbm as lgb\n",
    "from sklearn.model_selection import train_test_split\n",
    "from sklearn.metrics import accuracy_score\n",
    "\n",
    "use_cols = [\n",
    "    \"Pclass\",\n",
    "    \"IsMale\",\n",
    "    \"Age\",\n",
    "    \"SibSp\",\n",
    "    \"Parch\",\n",
    "    \"Fare\",\n",
    "]\n",
    "target_col = \"Survived\"\n",
    "\n",
    "# 目的変数と説明変数\n",
    "x = train.select(use_cols)\n",
    "y = train[target_col]\n",
    "\n",
    "# 学習用・検証用データに分割\n",
    "x_train, x_valid, y_train, y_valid = train_test_split(x.to_pandas(), y.to_pandas(), test_size=0.2, random_state=42)\n",
    "\n",
    "# LightGBMデータセット作成\n",
    "train_data = lgb.Dataset(x_train, label=y_train)\n",
    "valid_data = lgb.Dataset(x_valid, label=y_valid)\n",
    "\n",
    "# パラメータ設定（シンプルな例）\n",
    "params = {\n",
    "    \"objective\": \"binary\",\n",
    "    \"metric\": \"binary_error\",\n",
    "    \"verbosity\": -1,\n",
    "    \"seed\": 42,\n",
    "}\n",
    "\n",
    "# モデル学習\n",
    "model = lgb.train(params, train_data, valid_sets=[valid_data], num_boost_round=100, callbacks=[lgb.early_stopping(10)])\n",
    "\n",
    "# 検証データで予測\n",
    "y_pred = model.predict(x_valid)\n",
    "y_pred_label = (y_pred > 0.5).astype(int)\n",
    "\n",
    "# 精度表示\n",
    "print(\"Accuracy:\", accuracy_score(y_valid, y_pred_label))"
   ]
  },
  {
   "cell_type": "code",
   "execution_count": 6,
   "id": "d3f4679c",
   "metadata": {},
   "outputs": [],
   "source": [
    "# テストデータの特徴量を学習時と同じカラムで抽出\n",
    "test_x = test.select(use_cols).to_pandas()\n",
    "\n",
    "# 欠損値補完（学習時と同様の処理が必要）\n",
    "# ここでは簡単に平均値で補完\n",
    "# test_x = test_x.fillna(test_x.mean())\n",
    "\n",
    "# 予測\n",
    "test_pred = model.predict(test_x)\n",
    "test_pred_label = (test_pred > 0.5).astype(int)\n",
    "\n",
    "# PassengerIdと予測結果を組み合わせてsubmissionデータフレーム作成\n",
    "submission = test.select([\"PassengerId\"]).to_pandas()\n",
    "submission[target_col] = test_pred_label\n",
    "\n",
    "# CSVとして保存\n",
    "submission.to_csv(\"./data/submission.csv\", index=False)"
   ]
  },
  {
   "cell_type": "markdown",
   "id": "d2dea3c4",
   "metadata": {},
   "source": [
    "`kaggle competitions submit -c titanic -f data/submission.csv -m \"Message\"`"
   ]
  }
 ],
 "metadata": {
  "kernelspec": {
   "display_name": ".venv",
   "language": "python",
   "name": "python3"
  },
  "language_info": {
   "codemirror_mode": {
    "name": "ipython",
    "version": 3
   },
   "file_extension": ".py",
   "mimetype": "text/x-python",
   "name": "python",
   "nbconvert_exporter": "python",
   "pygments_lexer": "ipython3",
   "version": "3.9.18"
  }
 },
 "nbformat": 4,
 "nbformat_minor": 5
}
